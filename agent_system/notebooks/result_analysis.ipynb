{
 "cells": [
  {
   "cell_type": "code",
   "execution_count": 44,
   "metadata": {},
   "outputs": [],
   "source": [
    "import os\n",
    "import json\n",
    "import numpy as np"
   ]
  },
  {
   "cell_type": "code",
   "execution_count": 45,
   "metadata": {},
   "outputs": [],
   "source": [
    "from agent_system.src.tool_datasets import ToolbenchDataset, APIGenDataset, MetaToolDataset"
   ]
  },
  {
   "cell_type": "code",
   "execution_count": 3,
   "metadata": {},
   "outputs": [
    {
     "name": "stdout",
     "output_type": "stream",
     "text": [
      "# of queries: 60000\n",
      "# of queries after filtering: 60000\n",
      "Dataset Stats:\n",
      "Number of queries: 60000\n",
      "Number of APIs in total: 3605\n",
      "Number of APIs with query: 3179\n",
      "Number of total query-api pairs: 100011\n",
      "Avg number of APIs per query: 1.66685\n"
     ]
    }
   ],
   "source": [
    "ds = APIGenDataset()"
   ]
  },
  {
   "cell_type": "code",
   "execution_count": 4,
   "metadata": {},
   "outputs": [],
   "source": [
    "eval_result_file_path = '../results/apigen_api20_eval.json'\n",
    "result_file_path = '../results/apigen_api20.json'"
   ]
  },
  {
   "cell_type": "code",
   "execution_count": 5,
   "metadata": {},
   "outputs": [],
   "source": [
    "eval_result = json.load(open(eval_result_file_path))\n",
    "eval_result = {int(k): v for k, v in eval_result.items()}\n",
    "\n",
    "result = json.load(open(result_file_path))\n",
    "result = {int(k): v for k, v in result.items()}"
   ]
  },
  {
   "cell_type": "code",
   "execution_count": 6,
   "metadata": {},
   "outputs": [
    {
     "data": {
      "text/plain": [
       "8047"
      ]
     },
     "execution_count": 6,
     "metadata": {},
     "output_type": "execute_result"
    }
   ],
   "source": [
    "len(eval_result)"
   ]
  },
  {
   "cell_type": "code",
   "execution_count": 7,
   "metadata": {},
   "outputs": [],
   "source": [
    "# choose where answer_status is Unsolved or unsure\n",
    "unsolved = [k for k, v in eval_result.items() if v['answer_status'] == 'Unsolved']\n",
    "unsure = [k for k, v in eval_result.items() if v['answer_status'] == 'Unsure']"
   ]
  },
  {
   "cell_type": "code",
   "execution_count": 8,
   "metadata": {},
   "outputs": [
    {
     "data": {
      "text/plain": [
       "(1185, 65)"
      ]
     },
     "execution_count": 8,
     "metadata": {},
     "output_type": "execute_result"
    }
   ],
   "source": [
    "len(unsolved), len(unsure)"
   ]
  },
  {
   "cell_type": "code",
   "execution_count": 42,
   "metadata": {},
   "outputs": [
    {
     "name": "stdout",
     "output_type": "stream",
     "text": [
      "Query: Retrieve all data from the 'economy' subset in the 'global_data' dataset. Also, find the recitations for Ayah '3:15' with recitation ID 10.\n",
      "* Final Answer: ### Recitation Details for Ayah 3:15 with Recitation ID 10\n",
      "- **Reciter Name:** Abdul Rahman Al-Sudais\n",
      "- **Recitation Language:** Arabic\n",
      "- **Recitation Style:** Hafs\n",
      "- **Audio URL:** [Listen to the Recitation](https://example.com/recitations/10/3:15.mp3)\n",
      "- **Duration:** 00:00:45\n",
      "\n",
      "### Translations\n",
      "- **English:** \"Say, [O Muhammad], 'Shall I inform you of [something] better than that? For those who fear Allah will be gardens in the presence of their Lord beneath which rivers flow, wherein they abide eternally, and purified spouses and approval from Allah. And Allah is Seeing of [His] servants.'\"\n",
      "- **Urdu:** \"کہہ دو کہ کیا میں تمھیں اس سے بہتر چیز کی خبر دوں؟ جو لوگ اللہ سے ڈرتے ہیں ان کے لئے ان کے رب کے حضور بہشتیں ہیں جن کے نیچے نہریں بہتی ہیں، جہاں وہ ہمیشہ رہیں گے، اور پاکیزہ جیون ساتھی اور اللہ کی رضامندی۔ اور اللہ اپنے بندوں کو دیکھ رہا ہے۔\"\n",
      "\n",
      "Regarding the request for data from the 'economy' subset in the 'global_data' dataset, it appears there was a misunderstanding as there is no specific tool or dataset named 'global_data' available in the provided tools. If you have specific economic data or tools in mind, please provide more details or clarify your request.\n",
      "* Reason: The answer provided detailed information about the recitation for Ayah '3:15' with Recitation ID 10, including the reciter's name, language, style, audio URL, duration, and translations in English and Urdu. This part of the query is sufficiently answered, indicating a 'Solved' status for this component. However, the query also requested data from the 'economy' subset in the 'global_data' dataset, to which the response indicated a misunderstanding or lack of availability of the specified dataset. Since the answer did not address this part of the query effectively, it remains unresolved. Therefore, the overall status of the answer is 'Unsolved' because it did not fully address all components of the query.\n",
      "* Tool Calls (length: 1): [{'arguments': '{\"recitation_id\": 10, \"ayah_key\": \"3:15\"}', 'name': 'ayah_recitations'}]\n",
      "* GT tool calls: [{'name': 'tsv2', 'arguments': {'subset': 'economy', 'dataset': 'global_data', 'limit': 0}}, {'name': 'ayah_recitations', 'arguments': {'recitation_id': 10, 'ayah_key': '3:15'}}]\n"
     ]
    },
    {
     "data": {
      "text/plain": [
       "{'retrieval_gt_count': 2,\n",
       " 'retrieval_tp': 1,\n",
       " 'retrieval_fn': 1,\n",
       " 'retrieval_recall': 0.5,\n",
       " 'tool_gt_count': 2,\n",
       " 'tool_tp': 1,\n",
       " 'tool_fn': 1,\n",
       " 'tool_recall': 0.5,\n",
       " 'tool_call_correct_count': 1,\n",
       " 'answer_status': 'Unsolved',\n",
       " 'reason': \"The answer provided detailed information about the recitation for Ayah '3:15' with Recitation ID 10, including the reciter's name, language, style, audio URL, duration, and translations in English and Urdu. This part of the query is sufficiently answered, indicating a 'Solved' status for this component. However, the query also requested data from the 'economy' subset in the 'global_data' dataset, to which the response indicated a misunderstanding or lack of availability of the specified dataset. Since the answer did not address this part of the query effectively, it remains unresolved. Therefore, the overall status of the answer is 'Unsolved' because it did not fully address all components of the query.\"}"
      ]
     },
     "execution_count": 42,
     "metadata": {},
     "output_type": "execute_result"
    }
   ],
   "source": [
    "qid = unsolved[-9]\n",
    "eval = eval_result[qid]\n",
    "query = ds.get_query_by_id(qid)\n",
    "print(f\"Query: {query}\")\n",
    "final_response = result[qid]['final_response']\n",
    "tool_calls = result[qid]['tool_calls']\n",
    "reason = eval['reason']\n",
    "print(f\"* Final Answer: {final_response}\")\n",
    "print(f\"* Reason: {reason}\")\n",
    "print(f\"* Tool Calls (length: {len(tool_calls)}): {[tool_call['function'] for tool_call in tool_calls[0]]}\")\n",
    "print(f\"* GT tool calls: {ds.get_answers_by_query_id(qid)}\")\n",
    "eval"
   ]
  },
  {
   "cell_type": "code",
   "execution_count": null,
   "metadata": {},
   "outputs": [],
   "source": []
  }
 ],
 "metadata": {
  "kernelspec": {
   "display_name": "agent",
   "language": "python",
   "name": "python3"
  },
  "language_info": {
   "codemirror_mode": {
    "name": "ipython",
    "version": 3
   },
   "file_extension": ".py",
   "mimetype": "text/x-python",
   "name": "python",
   "nbconvert_exporter": "python",
   "pygments_lexer": "ipython3",
   "version": "3.11.9"
  }
 },
 "nbformat": 4,
 "nbformat_minor": 2
}
